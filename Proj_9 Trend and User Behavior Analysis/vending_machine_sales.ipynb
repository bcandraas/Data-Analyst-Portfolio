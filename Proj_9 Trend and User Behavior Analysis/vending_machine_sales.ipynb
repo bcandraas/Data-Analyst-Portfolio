{
  "nbformat": 4,
  "nbformat_minor": 0,
  "metadata": {
    "colab": {
      "provenance": [],
      "toc_visible": true,
      "authorship_tag": "ABX9TyMo6YMxCE3dkepI0wgk0rXp",
      "include_colab_link": true
    },
    "kernelspec": {
      "name": "python3",
      "display_name": "Python 3"
    },
    "language_info": {
      "name": "python"
    }
  },
  "cells": [
    {
      "cell_type": "markdown",
      "metadata": {
        "id": "view-in-github",
        "colab_type": "text"
      },
      "source": [
        "<a href=\"https://colab.research.google.com/github/bcandraas/Data-Analyst-Portfolio/blob/main/vending_machine_sales.ipynb\" target=\"_parent\"><img src=\"https://colab.research.google.com/assets/colab-badge.svg\" alt=\"Open In Colab\"/></a>"
      ]
    },
    {
      "cell_type": "markdown",
      "source": [
        "# Vending Machine Sales Dataset\n",
        "\n",
        "This dataset represents vending machine data from various locations in Central New Jersey. The locations include a library, a mall, office location and a manufacturing locations. Data analyst can make use of the data to understand trends, user behavior and overall preferences by consumers at different locations."
      ],
      "metadata": {
        "id": "8eGqdmTHlkmD"
      }
    },
    {
      "cell_type": "markdown",
      "source": [
        "## Import Library and Dataset"
      ],
      "metadata": {
        "id": "ADN4sBGSlwu3"
      }
    },
    {
      "cell_type": "code",
      "execution_count": null,
      "metadata": {
        "id": "h43WkTjzsYBR"
      },
      "outputs": [],
      "source": [
        "import pandas as pd\n",
        "import numpy as np\n",
        "import matplotlib.pyplot as plt\n",
        "import seaborn as sns\n",
        "from datetime import datetime\n",
        "from datetime import timedelta\n",
        "from sklearn import cluster\n",
        "from google.colab import files"
      ]
    },
    {
      "cell_type": "code",
      "source": [
        "sheet_url = 'https://docs.google.com/spreadsheets/d/1mlVEdnDS0uIk8HhJdXHLVP-Dmow62H50GG5cEdZLRk4/edit#gid=323701123'\n",
        "sheet_url_trf = sheet_url.replace('/edit#gid=', '/export?format=csv&gid=')\n",
        "print(sheet_url_trf)\n",
        "df = pd.read_csv(sheet_url_trf)\n",
        "df.head()"
      ],
      "metadata": {
        "colab": {
          "base_uri": "https://localhost:8080/",
          "height": 372
        },
        "id": "Pklmb5w_seyM",
        "outputId": "0ad0e381-93fb-438d-87bc-2f42abb87503"
      },
      "execution_count": null,
      "outputs": [
        {
          "output_type": "stream",
          "name": "stdout",
          "text": [
            "https://docs.google.com/spreadsheets/d/1mlVEdnDS0uIk8HhJdXHLVP-Dmow62H50GG5cEdZLRk4/export?format=csv&gid=323701123\n"
          ]
        },
        {
          "output_type": "execute_result",
          "data": {
            "text/plain": [
              "      Status    Device ID           Location               Machine  \\\n",
              "0  Processed  VJ300320611  Brunswick Sq Mall  BSQ Mall x1366 - ATT   \n",
              "1  Processed  VJ300320611  Brunswick Sq Mall  BSQ Mall x1366 - ATT   \n",
              "2  Processed  VJ300320611  Brunswick Sq Mall  BSQ Mall x1366 - ATT   \n",
              "3  Processed  VJ300320611  Brunswick Sq Mall  BSQ Mall x1366 - ATT   \n",
              "4  Processed  VJ300320611  Brunswick Sq Mall  BSQ Mall x1366 - ATT   \n",
              "\n",
              "                                Product    Category  Transaction  \\\n",
              "0  Red Bull - Energy Drink - Sugar Free  Carbonated  14515778905   \n",
              "1  Red Bull - Energy Drink - Sugar Free  Carbonated  14516018629   \n",
              "2      Takis - Hot Chilli Pepper & Lime        Food  14516018629   \n",
              "3      Takis - Hot Chilli Pepper & Lime        Food  14516020373   \n",
              "4  Red Bull - Energy Drink - Sugar Free  Carbonated  14516021756   \n",
              "\n",
              "                   TransDate    Type  RCoil  RPrice  RQty  MCoil  MPrice  \\\n",
              "0  Saturday, January 1, 2022  Credit    148     3.5     1    148     3.5   \n",
              "1  Saturday, January 1, 2022  Credit    148     3.5     1    148     3.5   \n",
              "2  Saturday, January 1, 2022  Credit    123     1.5     1    123     1.5   \n",
              "3  Saturday, January 1, 2022  Credit    123     1.5     1    123     1.5   \n",
              "4  Saturday, January 1, 2022  Credit    148     3.5     1    148     3.5   \n",
              "\n",
              "   MQty  LineTotal  TransTotal Prcd Date  \n",
              "0     1        3.5         3.5  1/1/2022  \n",
              "1     1        3.5         5.0  1/1/2022  \n",
              "2     1        1.5         5.0  1/1/2022  \n",
              "3     1        1.5         1.5  1/1/2022  \n",
              "4     1        3.5         3.5  1/1/2022  "
            ],
            "text/html": [
              "\n",
              "  <div id=\"df-c5dd57e5-ae31-41a7-ab7d-1f76e052ea54\">\n",
              "    <div class=\"colab-df-container\">\n",
              "      <div>\n",
              "<style scoped>\n",
              "    .dataframe tbody tr th:only-of-type {\n",
              "        vertical-align: middle;\n",
              "    }\n",
              "\n",
              "    .dataframe tbody tr th {\n",
              "        vertical-align: top;\n",
              "    }\n",
              "\n",
              "    .dataframe thead th {\n",
              "        text-align: right;\n",
              "    }\n",
              "</style>\n",
              "<table border=\"1\" class=\"dataframe\">\n",
              "  <thead>\n",
              "    <tr style=\"text-align: right;\">\n",
              "      <th></th>\n",
              "      <th>Status</th>\n",
              "      <th>Device ID</th>\n",
              "      <th>Location</th>\n",
              "      <th>Machine</th>\n",
              "      <th>Product</th>\n",
              "      <th>Category</th>\n",
              "      <th>Transaction</th>\n",
              "      <th>TransDate</th>\n",
              "      <th>Type</th>\n",
              "      <th>RCoil</th>\n",
              "      <th>RPrice</th>\n",
              "      <th>RQty</th>\n",
              "      <th>MCoil</th>\n",
              "      <th>MPrice</th>\n",
              "      <th>MQty</th>\n",
              "      <th>LineTotal</th>\n",
              "      <th>TransTotal</th>\n",
              "      <th>Prcd Date</th>\n",
              "    </tr>\n",
              "  </thead>\n",
              "  <tbody>\n",
              "    <tr>\n",
              "      <th>0</th>\n",
              "      <td>Processed</td>\n",
              "      <td>VJ300320611</td>\n",
              "      <td>Brunswick Sq Mall</td>\n",
              "      <td>BSQ Mall x1366 - ATT</td>\n",
              "      <td>Red Bull - Energy Drink - Sugar Free</td>\n",
              "      <td>Carbonated</td>\n",
              "      <td>14515778905</td>\n",
              "      <td>Saturday, January 1, 2022</td>\n",
              "      <td>Credit</td>\n",
              "      <td>148</td>\n",
              "      <td>3.5</td>\n",
              "      <td>1</td>\n",
              "      <td>148</td>\n",
              "      <td>3.5</td>\n",
              "      <td>1</td>\n",
              "      <td>3.5</td>\n",
              "      <td>3.5</td>\n",
              "      <td>1/1/2022</td>\n",
              "    </tr>\n",
              "    <tr>\n",
              "      <th>1</th>\n",
              "      <td>Processed</td>\n",
              "      <td>VJ300320611</td>\n",
              "      <td>Brunswick Sq Mall</td>\n",
              "      <td>BSQ Mall x1366 - ATT</td>\n",
              "      <td>Red Bull - Energy Drink - Sugar Free</td>\n",
              "      <td>Carbonated</td>\n",
              "      <td>14516018629</td>\n",
              "      <td>Saturday, January 1, 2022</td>\n",
              "      <td>Credit</td>\n",
              "      <td>148</td>\n",
              "      <td>3.5</td>\n",
              "      <td>1</td>\n",
              "      <td>148</td>\n",
              "      <td>3.5</td>\n",
              "      <td>1</td>\n",
              "      <td>3.5</td>\n",
              "      <td>5.0</td>\n",
              "      <td>1/1/2022</td>\n",
              "    </tr>\n",
              "    <tr>\n",
              "      <th>2</th>\n",
              "      <td>Processed</td>\n",
              "      <td>VJ300320611</td>\n",
              "      <td>Brunswick Sq Mall</td>\n",
              "      <td>BSQ Mall x1366 - ATT</td>\n",
              "      <td>Takis - Hot Chilli Pepper &amp; Lime</td>\n",
              "      <td>Food</td>\n",
              "      <td>14516018629</td>\n",
              "      <td>Saturday, January 1, 2022</td>\n",
              "      <td>Credit</td>\n",
              "      <td>123</td>\n",
              "      <td>1.5</td>\n",
              "      <td>1</td>\n",
              "      <td>123</td>\n",
              "      <td>1.5</td>\n",
              "      <td>1</td>\n",
              "      <td>1.5</td>\n",
              "      <td>5.0</td>\n",
              "      <td>1/1/2022</td>\n",
              "    </tr>\n",
              "    <tr>\n",
              "      <th>3</th>\n",
              "      <td>Processed</td>\n",
              "      <td>VJ300320611</td>\n",
              "      <td>Brunswick Sq Mall</td>\n",
              "      <td>BSQ Mall x1366 - ATT</td>\n",
              "      <td>Takis - Hot Chilli Pepper &amp; Lime</td>\n",
              "      <td>Food</td>\n",
              "      <td>14516020373</td>\n",
              "      <td>Saturday, January 1, 2022</td>\n",
              "      <td>Credit</td>\n",
              "      <td>123</td>\n",
              "      <td>1.5</td>\n",
              "      <td>1</td>\n",
              "      <td>123</td>\n",
              "      <td>1.5</td>\n",
              "      <td>1</td>\n",
              "      <td>1.5</td>\n",
              "      <td>1.5</td>\n",
              "      <td>1/1/2022</td>\n",
              "    </tr>\n",
              "    <tr>\n",
              "      <th>4</th>\n",
              "      <td>Processed</td>\n",
              "      <td>VJ300320611</td>\n",
              "      <td>Brunswick Sq Mall</td>\n",
              "      <td>BSQ Mall x1366 - ATT</td>\n",
              "      <td>Red Bull - Energy Drink - Sugar Free</td>\n",
              "      <td>Carbonated</td>\n",
              "      <td>14516021756</td>\n",
              "      <td>Saturday, January 1, 2022</td>\n",
              "      <td>Credit</td>\n",
              "      <td>148</td>\n",
              "      <td>3.5</td>\n",
              "      <td>1</td>\n",
              "      <td>148</td>\n",
              "      <td>3.5</td>\n",
              "      <td>1</td>\n",
              "      <td>3.5</td>\n",
              "      <td>3.5</td>\n",
              "      <td>1/1/2022</td>\n",
              "    </tr>\n",
              "  </tbody>\n",
              "</table>\n",
              "</div>\n",
              "      <button class=\"colab-df-convert\" onclick=\"convertToInteractive('df-c5dd57e5-ae31-41a7-ab7d-1f76e052ea54')\"\n",
              "              title=\"Convert this dataframe to an interactive table.\"\n",
              "              style=\"display:none;\">\n",
              "        \n",
              "  <svg xmlns=\"http://www.w3.org/2000/svg\" height=\"24px\"viewBox=\"0 0 24 24\"\n",
              "       width=\"24px\">\n",
              "    <path d=\"M0 0h24v24H0V0z\" fill=\"none\"/>\n",
              "    <path d=\"M18.56 5.44l.94 2.06.94-2.06 2.06-.94-2.06-.94-.94-2.06-.94 2.06-2.06.94zm-11 1L8.5 8.5l.94-2.06 2.06-.94-2.06-.94L8.5 2.5l-.94 2.06-2.06.94zm10 10l.94 2.06.94-2.06 2.06-.94-2.06-.94-.94-2.06-.94 2.06-2.06.94z\"/><path d=\"M17.41 7.96l-1.37-1.37c-.4-.4-.92-.59-1.43-.59-.52 0-1.04.2-1.43.59L10.3 9.45l-7.72 7.72c-.78.78-.78 2.05 0 2.83L4 21.41c.39.39.9.59 1.41.59.51 0 1.02-.2 1.41-.59l7.78-7.78 2.81-2.81c.8-.78.8-2.07 0-2.86zM5.41 20L4 18.59l7.72-7.72 1.47 1.35L5.41 20z\"/>\n",
              "  </svg>\n",
              "      </button>\n",
              "      \n",
              "  <style>\n",
              "    .colab-df-container {\n",
              "      display:flex;\n",
              "      flex-wrap:wrap;\n",
              "      gap: 12px;\n",
              "    }\n",
              "\n",
              "    .colab-df-convert {\n",
              "      background-color: #E8F0FE;\n",
              "      border: none;\n",
              "      border-radius: 50%;\n",
              "      cursor: pointer;\n",
              "      display: none;\n",
              "      fill: #1967D2;\n",
              "      height: 32px;\n",
              "      padding: 0 0 0 0;\n",
              "      width: 32px;\n",
              "    }\n",
              "\n",
              "    .colab-df-convert:hover {\n",
              "      background-color: #E2EBFA;\n",
              "      box-shadow: 0px 1px 2px rgba(60, 64, 67, 0.3), 0px 1px 3px 1px rgba(60, 64, 67, 0.15);\n",
              "      fill: #174EA6;\n",
              "    }\n",
              "\n",
              "    [theme=dark] .colab-df-convert {\n",
              "      background-color: #3B4455;\n",
              "      fill: #D2E3FC;\n",
              "    }\n",
              "\n",
              "    [theme=dark] .colab-df-convert:hover {\n",
              "      background-color: #434B5C;\n",
              "      box-shadow: 0px 1px 3px 1px rgba(0, 0, 0, 0.15);\n",
              "      filter: drop-shadow(0px 1px 2px rgba(0, 0, 0, 0.3));\n",
              "      fill: #FFFFFF;\n",
              "    }\n",
              "  </style>\n",
              "\n",
              "      <script>\n",
              "        const buttonEl =\n",
              "          document.querySelector('#df-c5dd57e5-ae31-41a7-ab7d-1f76e052ea54 button.colab-df-convert');\n",
              "        buttonEl.style.display =\n",
              "          google.colab.kernel.accessAllowed ? 'block' : 'none';\n",
              "\n",
              "        async function convertToInteractive(key) {\n",
              "          const element = document.querySelector('#df-c5dd57e5-ae31-41a7-ab7d-1f76e052ea54');\n",
              "          const dataTable =\n",
              "            await google.colab.kernel.invokeFunction('convertToInteractive',\n",
              "                                                     [key], {});\n",
              "          if (!dataTable) return;\n",
              "\n",
              "          const docLinkHtml = 'Like what you see? Visit the ' +\n",
              "            '<a target=\"_blank\" href=https://colab.research.google.com/notebooks/data_table.ipynb>data table notebook</a>'\n",
              "            + ' to learn more about interactive tables.';\n",
              "          element.innerHTML = '';\n",
              "          dataTable['output_type'] = 'display_data';\n",
              "          await google.colab.output.renderOutput(dataTable, element);\n",
              "          const docLink = document.createElement('div');\n",
              "          docLink.innerHTML = docLinkHtml;\n",
              "          element.appendChild(docLink);\n",
              "        }\n",
              "      </script>\n",
              "    </div>\n",
              "  </div>\n",
              "  "
            ]
          },
          "metadata": {},
          "execution_count": 34
        }
      ]
    },
    {
      "cell_type": "markdown",
      "source": [
        "## Handling Missing Data"
      ],
      "metadata": {
        "id": "mKoFHwXRl0r0"
      }
    },
    {
      "cell_type": "code",
      "source": [
        "df.isna().sum()"
      ],
      "metadata": {
        "colab": {
          "base_uri": "https://localhost:8080/"
        },
        "id": "y2y91He8s-C-",
        "outputId": "45bf9803-5658-4652-cdee-d6fc2064fb20"
      },
      "execution_count": null,
      "outputs": [
        {
          "output_type": "execute_result",
          "data": {
            "text/plain": [
              "Status           0\n",
              "Device ID        0\n",
              "Location         0\n",
              "Machine          0\n",
              "Product          4\n",
              "Category       185\n",
              "Transaction      0\n",
              "TransDate        0\n",
              "Type             0\n",
              "RCoil            0\n",
              "RPrice           0\n",
              "RQty             0\n",
              "MCoil            0\n",
              "MPrice           1\n",
              "MQty             0\n",
              "LineTotal        0\n",
              "TransTotal       0\n",
              "Prcd Date        0\n",
              "dtype: int64"
            ]
          },
          "metadata": {},
          "execution_count": 35
        }
      ]
    },
    {
      "cell_type": "code",
      "source": [
        "df.shape"
      ],
      "metadata": {
        "colab": {
          "base_uri": "https://localhost:8080/"
        },
        "id": "2blh9aNqxr1S",
        "outputId": "a44a5352-fb37-4b82-f46b-9d7131f2f7af"
      },
      "execution_count": null,
      "outputs": [
        {
          "output_type": "execute_result",
          "data": {
            "text/plain": [
              "(6445, 18)"
            ]
          },
          "metadata": {},
          "execution_count": 36
        }
      ]
    },
    {
      "cell_type": "code",
      "source": [
        "dfcheck = df[df['Category'].isnull()]\n",
        "dfcheck.head()"
      ],
      "metadata": {
        "colab": {
          "base_uri": "https://localhost:8080/",
          "height": 354
        },
        "id": "ktUkzk2vtC5O",
        "outputId": "ed1cd6be-575a-4738-b4c8-39a9de371492"
      },
      "execution_count": null,
      "outputs": [
        {
          "output_type": "execute_result",
          "data": {
            "text/plain": [
              "         Status    Device ID           Location                  Machine  \\\n",
              "1232  Processed  VJ300320692  EB Public Library  EB Public Library x1380   \n",
              "1431  Processed  VJ300320692  EB Public Library  EB Public Library x1380   \n",
              "1439  Processed  VJ300320692  EB Public Library  EB Public Library x1380   \n",
              "1448  Processed  VJ300320609        GuttenPlans        GuttenPlans x1367   \n",
              "1453  Processed  VJ300320609        GuttenPlans        GuttenPlans x1367   \n",
              "\n",
              "                           Product Category  Transaction  \\\n",
              "1232                           NaN      NaN  14835073327   \n",
              "1431                           NaN      NaN  14873793590   \n",
              "1439                           NaN      NaN  14878665903   \n",
              "1448  Doritos Dinamita Chile Lemon      NaN  14879782611   \n",
              "1453  Doritos Dinamita Chile Lemon      NaN  14880181107   \n",
              "\n",
              "                      TransDate    Type  RCoil  RPrice  RQty  MCoil  MPrice  \\\n",
              "1232  Wednesday, March 16, 2022  Credit    120     2.0     1    120     2.0   \n",
              "1431   Thursday, March 24, 2022    Cash    120     2.0     1    120     2.0   \n",
              "1439     Friday, March 25, 2022  Credit    120     2.0     1    120     2.0   \n",
              "1448     Friday, March 25, 2022    Cash    125     1.0     1    125     1.0   \n",
              "1453   Saturday, March 26, 2022    Cash    113     1.5     1    113     1.5   \n",
              "\n",
              "      MQty  LineTotal  TransTotal  Prcd Date  \n",
              "1232     1        2.0        2.00  3/30/2022  \n",
              "1431     1        2.0        2.00  3/30/2022  \n",
              "1439     1        2.0        3.25  3/30/2022  \n",
              "1448     1        1.0        1.00  3/25/2022  \n",
              "1453     1        1.5        1.50  3/25/2022  "
            ],
            "text/html": [
              "\n",
              "  <div id=\"df-ee862589-8524-48b9-8bd0-087b36ff7832\">\n",
              "    <div class=\"colab-df-container\">\n",
              "      <div>\n",
              "<style scoped>\n",
              "    .dataframe tbody tr th:only-of-type {\n",
              "        vertical-align: middle;\n",
              "    }\n",
              "\n",
              "    .dataframe tbody tr th {\n",
              "        vertical-align: top;\n",
              "    }\n",
              "\n",
              "    .dataframe thead th {\n",
              "        text-align: right;\n",
              "    }\n",
              "</style>\n",
              "<table border=\"1\" class=\"dataframe\">\n",
              "  <thead>\n",
              "    <tr style=\"text-align: right;\">\n",
              "      <th></th>\n",
              "      <th>Status</th>\n",
              "      <th>Device ID</th>\n",
              "      <th>Location</th>\n",
              "      <th>Machine</th>\n",
              "      <th>Product</th>\n",
              "      <th>Category</th>\n",
              "      <th>Transaction</th>\n",
              "      <th>TransDate</th>\n",
              "      <th>Type</th>\n",
              "      <th>RCoil</th>\n",
              "      <th>RPrice</th>\n",
              "      <th>RQty</th>\n",
              "      <th>MCoil</th>\n",
              "      <th>MPrice</th>\n",
              "      <th>MQty</th>\n",
              "      <th>LineTotal</th>\n",
              "      <th>TransTotal</th>\n",
              "      <th>Prcd Date</th>\n",
              "    </tr>\n",
              "  </thead>\n",
              "  <tbody>\n",
              "    <tr>\n",
              "      <th>1232</th>\n",
              "      <td>Processed</td>\n",
              "      <td>VJ300320692</td>\n",
              "      <td>EB Public Library</td>\n",
              "      <td>EB Public Library x1380</td>\n",
              "      <td>NaN</td>\n",
              "      <td>NaN</td>\n",
              "      <td>14835073327</td>\n",
              "      <td>Wednesday, March 16, 2022</td>\n",
              "      <td>Credit</td>\n",
              "      <td>120</td>\n",
              "      <td>2.0</td>\n",
              "      <td>1</td>\n",
              "      <td>120</td>\n",
              "      <td>2.0</td>\n",
              "      <td>1</td>\n",
              "      <td>2.0</td>\n",
              "      <td>2.00</td>\n",
              "      <td>3/30/2022</td>\n",
              "    </tr>\n",
              "    <tr>\n",
              "      <th>1431</th>\n",
              "      <td>Processed</td>\n",
              "      <td>VJ300320692</td>\n",
              "      <td>EB Public Library</td>\n",
              "      <td>EB Public Library x1380</td>\n",
              "      <td>NaN</td>\n",
              "      <td>NaN</td>\n",
              "      <td>14873793590</td>\n",
              "      <td>Thursday, March 24, 2022</td>\n",
              "      <td>Cash</td>\n",
              "      <td>120</td>\n",
              "      <td>2.0</td>\n",
              "      <td>1</td>\n",
              "      <td>120</td>\n",
              "      <td>2.0</td>\n",
              "      <td>1</td>\n",
              "      <td>2.0</td>\n",
              "      <td>2.00</td>\n",
              "      <td>3/30/2022</td>\n",
              "    </tr>\n",
              "    <tr>\n",
              "      <th>1439</th>\n",
              "      <td>Processed</td>\n",
              "      <td>VJ300320692</td>\n",
              "      <td>EB Public Library</td>\n",
              "      <td>EB Public Library x1380</td>\n",
              "      <td>NaN</td>\n",
              "      <td>NaN</td>\n",
              "      <td>14878665903</td>\n",
              "      <td>Friday, March 25, 2022</td>\n",
              "      <td>Credit</td>\n",
              "      <td>120</td>\n",
              "      <td>2.0</td>\n",
              "      <td>1</td>\n",
              "      <td>120</td>\n",
              "      <td>2.0</td>\n",
              "      <td>1</td>\n",
              "      <td>2.0</td>\n",
              "      <td>3.25</td>\n",
              "      <td>3/30/2022</td>\n",
              "    </tr>\n",
              "    <tr>\n",
              "      <th>1448</th>\n",
              "      <td>Processed</td>\n",
              "      <td>VJ300320609</td>\n",
              "      <td>GuttenPlans</td>\n",
              "      <td>GuttenPlans x1367</td>\n",
              "      <td>Doritos Dinamita Chile Lemon</td>\n",
              "      <td>NaN</td>\n",
              "      <td>14879782611</td>\n",
              "      <td>Friday, March 25, 2022</td>\n",
              "      <td>Cash</td>\n",
              "      <td>125</td>\n",
              "      <td>1.0</td>\n",
              "      <td>1</td>\n",
              "      <td>125</td>\n",
              "      <td>1.0</td>\n",
              "      <td>1</td>\n",
              "      <td>1.0</td>\n",
              "      <td>1.00</td>\n",
              "      <td>3/25/2022</td>\n",
              "    </tr>\n",
              "    <tr>\n",
              "      <th>1453</th>\n",
              "      <td>Processed</td>\n",
              "      <td>VJ300320609</td>\n",
              "      <td>GuttenPlans</td>\n",
              "      <td>GuttenPlans x1367</td>\n",
              "      <td>Doritos Dinamita Chile Lemon</td>\n",
              "      <td>NaN</td>\n",
              "      <td>14880181107</td>\n",
              "      <td>Saturday, March 26, 2022</td>\n",
              "      <td>Cash</td>\n",
              "      <td>113</td>\n",
              "      <td>1.5</td>\n",
              "      <td>1</td>\n",
              "      <td>113</td>\n",
              "      <td>1.5</td>\n",
              "      <td>1</td>\n",
              "      <td>1.5</td>\n",
              "      <td>1.50</td>\n",
              "      <td>3/25/2022</td>\n",
              "    </tr>\n",
              "  </tbody>\n",
              "</table>\n",
              "</div>\n",
              "      <button class=\"colab-df-convert\" onclick=\"convertToInteractive('df-ee862589-8524-48b9-8bd0-087b36ff7832')\"\n",
              "              title=\"Convert this dataframe to an interactive table.\"\n",
              "              style=\"display:none;\">\n",
              "        \n",
              "  <svg xmlns=\"http://www.w3.org/2000/svg\" height=\"24px\"viewBox=\"0 0 24 24\"\n",
              "       width=\"24px\">\n",
              "    <path d=\"M0 0h24v24H0V0z\" fill=\"none\"/>\n",
              "    <path d=\"M18.56 5.44l.94 2.06.94-2.06 2.06-.94-2.06-.94-.94-2.06-.94 2.06-2.06.94zm-11 1L8.5 8.5l.94-2.06 2.06-.94-2.06-.94L8.5 2.5l-.94 2.06-2.06.94zm10 10l.94 2.06.94-2.06 2.06-.94-2.06-.94-.94-2.06-.94 2.06-2.06.94z\"/><path d=\"M17.41 7.96l-1.37-1.37c-.4-.4-.92-.59-1.43-.59-.52 0-1.04.2-1.43.59L10.3 9.45l-7.72 7.72c-.78.78-.78 2.05 0 2.83L4 21.41c.39.39.9.59 1.41.59.51 0 1.02-.2 1.41-.59l7.78-7.78 2.81-2.81c.8-.78.8-2.07 0-2.86zM5.41 20L4 18.59l7.72-7.72 1.47 1.35L5.41 20z\"/>\n",
              "  </svg>\n",
              "      </button>\n",
              "      \n",
              "  <style>\n",
              "    .colab-df-container {\n",
              "      display:flex;\n",
              "      flex-wrap:wrap;\n",
              "      gap: 12px;\n",
              "    }\n",
              "\n",
              "    .colab-df-convert {\n",
              "      background-color: #E8F0FE;\n",
              "      border: none;\n",
              "      border-radius: 50%;\n",
              "      cursor: pointer;\n",
              "      display: none;\n",
              "      fill: #1967D2;\n",
              "      height: 32px;\n",
              "      padding: 0 0 0 0;\n",
              "      width: 32px;\n",
              "    }\n",
              "\n",
              "    .colab-df-convert:hover {\n",
              "      background-color: #E2EBFA;\n",
              "      box-shadow: 0px 1px 2px rgba(60, 64, 67, 0.3), 0px 1px 3px 1px rgba(60, 64, 67, 0.15);\n",
              "      fill: #174EA6;\n",
              "    }\n",
              "\n",
              "    [theme=dark] .colab-df-convert {\n",
              "      background-color: #3B4455;\n",
              "      fill: #D2E3FC;\n",
              "    }\n",
              "\n",
              "    [theme=dark] .colab-df-convert:hover {\n",
              "      background-color: #434B5C;\n",
              "      box-shadow: 0px 1px 3px 1px rgba(0, 0, 0, 0.15);\n",
              "      filter: drop-shadow(0px 1px 2px rgba(0, 0, 0, 0.3));\n",
              "      fill: #FFFFFF;\n",
              "    }\n",
              "  </style>\n",
              "\n",
              "      <script>\n",
              "        const buttonEl =\n",
              "          document.querySelector('#df-ee862589-8524-48b9-8bd0-087b36ff7832 button.colab-df-convert');\n",
              "        buttonEl.style.display =\n",
              "          google.colab.kernel.accessAllowed ? 'block' : 'none';\n",
              "\n",
              "        async function convertToInteractive(key) {\n",
              "          const element = document.querySelector('#df-ee862589-8524-48b9-8bd0-087b36ff7832');\n",
              "          const dataTable =\n",
              "            await google.colab.kernel.invokeFunction('convertToInteractive',\n",
              "                                                     [key], {});\n",
              "          if (!dataTable) return;\n",
              "\n",
              "          const docLinkHtml = 'Like what you see? Visit the ' +\n",
              "            '<a target=\"_blank\" href=https://colab.research.google.com/notebooks/data_table.ipynb>data table notebook</a>'\n",
              "            + ' to learn more about interactive tables.';\n",
              "          element.innerHTML = '';\n",
              "          dataTable['output_type'] = 'display_data';\n",
              "          await google.colab.output.renderOutput(dataTable, element);\n",
              "          const docLink = document.createElement('div');\n",
              "          docLink.innerHTML = docLinkHtml;\n",
              "          element.appendChild(docLink);\n",
              "        }\n",
              "      </script>\n",
              "    </div>\n",
              "  </div>\n",
              "  "
            ]
          },
          "metadata": {},
          "execution_count": 37
        }
      ]
    },
    {
      "cell_type": "code",
      "source": [
        "dfcheck['Product'].unique()"
      ],
      "metadata": {
        "colab": {
          "base_uri": "https://localhost:8080/"
        },
        "id": "R7DAPFiiwTdO",
        "outputId": "de07ff87-7972-48cf-e64c-1646685fc315"
      },
      "execution_count": null,
      "outputs": [
        {
          "output_type": "execute_result",
          "data": {
            "text/plain": [
              "array([nan, 'Doritos Dinamita Chile Lemon', 'Doritos Spicy Nacho',\n",
              "       'Mini Chips Ahoy - Go Paks', 'Oreo Mini - Go Paks',\n",
              "       'Teddy Grahams - Go Paks', 'Starbucks Doubleshot Energy - Coffee',\n",
              "       'Canada Dry - Ginger Ale & Lemonde', 'Canada Dry - Ginger Ale'],\n",
              "      dtype=object)"
            ]
          },
          "metadata": {},
          "execution_count": 38
        }
      ]
    },
    {
      "cell_type": "code",
      "source": [
        "df['Category'] = np.where((df['Product'] == 'Doritos Dinamita Chile Lemon'), 'Food', df['Category'])\n",
        "df['Category'] = np.where((df['Product'] == 'Doritos Spicy Nacho'), 'Food', df['Category'])\n",
        "df['Category'] = np.where((df['Product'] == 'Mini Chips Ahoy - Go Paks'), 'Food', df['Category'])\n",
        "df['Category'] = np.where((df['Product'] == 'Oreo Mini - Go Paks'), 'Food', df['Category'])\n",
        "df['Category'] = np.where((df['Product'] == 'Teddy Grahams - Go Paks'), 'Food', df['Category'])\n",
        "df['Category'] = np.where((df['Product'] == 'Starbucks Doubleshot Energy - Coffee'), 'Non Carbonated', df['Category'])\n",
        "df['Category'] = np.where((df['Product'] == 'Canada Dry - Ginger Ale & Lemonde'), 'Carbonated', df['Category'])\n",
        "df['Category'] = np.where((df['Product'] == 'Canada Dry - Ginger Ale'), 'Carbonated', df['Category'])"
      ],
      "metadata": {
        "id": "IJr62-2Cvk9k"
      },
      "execution_count": null,
      "outputs": []
    },
    {
      "cell_type": "code",
      "source": [
        "df.isna().sum()"
      ],
      "metadata": {
        "colab": {
          "base_uri": "https://localhost:8080/"
        },
        "id": "oLhKoAdjv9LI",
        "outputId": "042f6984-c7ce-4e33-ec54-3ad15948d6dc"
      },
      "execution_count": null,
      "outputs": [
        {
          "output_type": "execute_result",
          "data": {
            "text/plain": [
              "Status         0\n",
              "Device ID      0\n",
              "Location       0\n",
              "Machine        0\n",
              "Product        4\n",
              "Category       4\n",
              "Transaction    0\n",
              "TransDate      0\n",
              "Type           0\n",
              "RCoil          0\n",
              "RPrice         0\n",
              "RQty           0\n",
              "MCoil          0\n",
              "MPrice         1\n",
              "MQty           0\n",
              "LineTotal      0\n",
              "TransTotal     0\n",
              "Prcd Date      0\n",
              "dtype: int64"
            ]
          },
          "metadata": {},
          "execution_count": 40
        }
      ]
    },
    {
      "cell_type": "code",
      "source": [
        "df.dropna(axis=0,inplace=True)\n",
        "df.isna().sum()"
      ],
      "metadata": {
        "colab": {
          "base_uri": "https://localhost:8080/"
        },
        "id": "O4VbBdX7xaYo",
        "outputId": "6321a782-5ab1-4cc0-d635-ecbe0e8fa53d"
      },
      "execution_count": null,
      "outputs": [
        {
          "output_type": "execute_result",
          "data": {
            "text/plain": [
              "Status         0\n",
              "Device ID      0\n",
              "Location       0\n",
              "Machine        0\n",
              "Product        0\n",
              "Category       0\n",
              "Transaction    0\n",
              "TransDate      0\n",
              "Type           0\n",
              "RCoil          0\n",
              "RPrice         0\n",
              "RQty           0\n",
              "MCoil          0\n",
              "MPrice         0\n",
              "MQty           0\n",
              "LineTotal      0\n",
              "TransTotal     0\n",
              "Prcd Date      0\n",
              "dtype: int64"
            ]
          },
          "metadata": {},
          "execution_count": 41
        }
      ]
    },
    {
      "cell_type": "code",
      "source": [
        "df.shape"
      ],
      "metadata": {
        "colab": {
          "base_uri": "https://localhost:8080/"
        },
        "id": "SL1ZWv-pxoee",
        "outputId": "bec88a23-c07c-4580-df2d-cd8eacef668a"
      },
      "execution_count": null,
      "outputs": [
        {
          "output_type": "execute_result",
          "data": {
            "text/plain": [
              "(6441, 18)"
            ]
          },
          "metadata": {},
          "execution_count": 42
        }
      ]
    },
    {
      "cell_type": "markdown",
      "source": [
        "## Handling Duplicate"
      ],
      "metadata": {
        "id": "d7RtuXK8l4cf"
      }
    },
    {
      "cell_type": "code",
      "source": [
        "df.duplicated().sum()"
      ],
      "metadata": {
        "colab": {
          "base_uri": "https://localhost:8080/"
        },
        "id": "z7DWDLCpxwkh",
        "outputId": "9d94ec9f-ab73-4506-d121-9e9d0585eddc"
      },
      "execution_count": null,
      "outputs": [
        {
          "output_type": "execute_result",
          "data": {
            "text/plain": [
              "0"
            ]
          },
          "metadata": {},
          "execution_count": 44
        }
      ]
    },
    {
      "cell_type": "markdown",
      "source": [
        "## Export Data to CSV\n",
        "\n",
        "After this, dataset will be transfered to Tableau to create the Dashboard"
      ],
      "metadata": {
        "id": "Gugujrydl7Rt"
      }
    },
    {
      "cell_type": "code",
      "source": [
        "df.to_csv('vending_machine_sales.csv')"
      ],
      "metadata": {
        "id": "Z-bt_Dvqx6_I"
      },
      "execution_count": null,
      "outputs": []
    }
  ]
}